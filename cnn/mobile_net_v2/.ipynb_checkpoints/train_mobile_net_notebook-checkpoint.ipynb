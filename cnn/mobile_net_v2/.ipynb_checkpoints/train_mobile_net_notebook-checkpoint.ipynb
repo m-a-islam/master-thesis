{
 "cells": [
  {
   "metadata": {},
   "cell_type": "markdown",
   "source": "## import necessary libraries for pruning",
   "id": "757f942cf3b37399"
  },
  {
   "metadata": {
    "ExecuteTime": {
     "end_time": "2025-03-31T22:45:13.937180Z",
     "start_time": "2025-03-31T22:45:12.959643Z"
    }
   },
   "cell_type": "code",
   "source": [
    "import torch, sys, os\n",
    "import torch.nn as nn\n",
    "import logging, torch.onnx\n",
    "import matplotlib.pyplot as plt\n",
    "\n",
    "\n",
    "from mask_mobile_net import MobileNetV2\n",
    "from cnn.resNet.utils import calculate_cost\n",
    "from cnn.resNet.resnet_example import get_data_loaders\n",
    "from thop import profile\n",
    "from torch import optim"
   ],
   "id": "9a41fc6188331cb3",
   "outputs": [],
   "execution_count": 2
  }
 ],
 "metadata": {
  "kernelspec": {
   "display_name": "myenv",
   "language": "python",
   "name": "python3"
  },
  "language_info": {
   "codemirror_mode": {
    "name": "ipython",
    "version": 3
   },
   "file_extension": ".py",
   "mimetype": "text/x-python",
   "name": "python",
   "nbconvert_exporter": "python",
   "pygments_lexer": "ipython3",
   "version": "3.12.3"
  }
 },
 "nbformat": 4,
 "nbformat_minor": 5
}
